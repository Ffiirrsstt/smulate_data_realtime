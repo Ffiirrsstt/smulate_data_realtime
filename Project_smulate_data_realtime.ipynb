{
 "cells": [
  {
   "cell_type": "code",
   "execution_count": 1,
   "id": "e7d4abda",
   "metadata": {
    "scrolled": true
   },
   "outputs": [
    {
     "name": "stdout",
     "output_type": "stream",
     "text": [
      "\"title : Simulate Steam donation totals\"\n",
      "\n",
      "How many seconds do you want to replicate the data? [seconds] : 0\n",
      "How many seconds do you need the last data? [update time] : 0\n",
      "Type 'yes' if you want to close the program.? \n",
      "[YES/NO] : ัำห\n",
      "Type 'yes' if you want to close the program.? \n",
      "[YES/NO] : yes\n",
      "\n",
      "Thank you for using our service.\n"
     ]
    },
    {
     "data": {
      "text/plain": [
       "<Figure size 1000x600 with 0 Axes>"
      ]
     },
     "metadata": {},
     "output_type": "display_data"
    }
   ],
   "source": [
    "import numpy as np\n",
    "from numpy.random import default_rng\n",
    "import matplotlib.pyplot as plt\n",
    "from IPython import display\n",
    "import time\n",
    "\n",
    "#Simulate Steam donation totals\n",
    "def values_data():\n",
    "    rng = default_rng()\n",
    "    donation = rng.integers(low=0,high=1000,endpoint= True , size=1)\n",
    "    return donation\n",
    "\n",
    "def forend():\n",
    "    while True :\n",
    "        end = input('Type \\'yes\\' if you want to close the program.? \\n[YES/NO] : ').lower()\n",
    "        if end == 'yes' :\n",
    "            end_stop = True\n",
    "            break\n",
    "        elif end == 'no' :\n",
    "            end_stop = False\n",
    "            break\n",
    "    return end_stop\n",
    "        \n",
    "print('\\\"title : Simulate Steam donation totals\\\"')\n",
    "fig=plt.figure(figsize=(10,6) , facecolor='pink')\n",
    "plt.ylim(0,1001)\n",
    "end=False\n",
    "\n",
    "while True:\n",
    "    \n",
    "    times = np.array([])\n",
    "    donation = np.array([])\n",
    "    donation_totals = np.array([])\n",
    "    while True :\n",
    "        answer = int(input('\\nHow many seconds do you want to replicate the data? [seconds] : '))\n",
    "        seconds = int(input('How many seconds do you need the last data? [update time] : '))\n",
    "        if answer == 0 or seconds == 0 :\n",
    "            end = forend()    \n",
    "            if end :\n",
    "                plt.clf()\n",
    "                break\n",
    "        else :\n",
    "            break\n",
    "            \n",
    "    #check\n",
    "    if end :\n",
    "        break\n",
    "    else :\n",
    "        for count in range(answer+1):\n",
    "        \n",
    "            times = np.concatenate((times,np.array([count])),axis=0)\n",
    "            donation = np.concatenate((donation,values_data()),axis=0)\n",
    "            donation_totals=np.sum(donation)\n",
    "        \n",
    "            plt.title(f'The total stream donation now stands at ${donation_totals}.',  color = 'darkblue')\n",
    "            plt.xlabel('time [seconds]' , color = 'darkblue')\n",
    "            plt.ylabel('donation [$]' , color = 'darkblue')\n",
    "        \n",
    "            if count > seconds:\n",
    "                donation = donation[1:]\n",
    "                times = times[1:]\n",
    "                plt.xlim(np.min(times) , np.max(times))\n",
    "        \n",
    "            plt.plot(times,donation,color='darkslategray',linewidth=2)\n",
    "            #plt.pause(0.1)\n",
    "            display.display(plt.gcf())\n",
    "            display.clear_output(wait=True)\n",
    "        \n",
    "    end = forend() \n",
    "    if end :\n",
    "        break\n",
    "    \n",
    "    plt.clf()\n",
    "            \n",
    "print('\\nThank you for using our service.')"
   ]
  },
  {
   "cell_type": "code",
   "execution_count": null,
   "id": "e4382605",
   "metadata": {},
   "outputs": [],
   "source": []
  }
 ],
 "metadata": {
  "kernelspec": {
   "display_name": "Python 3 (ipykernel)",
   "language": "python",
   "name": "python3"
  },
  "language_info": {
   "codemirror_mode": {
    "name": "ipython",
    "version": 3
   },
   "file_extension": ".py",
   "mimetype": "text/x-python",
   "name": "python",
   "nbconvert_exporter": "python",
   "pygments_lexer": "ipython3",
   "version": "3.10.11"
  }
 },
 "nbformat": 4,
 "nbformat_minor": 5
}
